{
  "cells": [
    {
      "cell_type": "markdown",
      "metadata": {},
      "source": [
        "#### Asteroide - Problema -#1"
      ]
    },
    {
      "cell_type": "code",
      "execution_count": 1,
      "metadata": {},
      "outputs": [
        {
          "name": "stdout",
          "output_type": "stream",
          "text": [
            "¡Peligro! ¡Un asteroide está cerca y una velocidad peligrosa!\n"
          ]
        }
      ],
      "source": [
        "asteroide = 49\n",
        "if asteroide > 25:\n",
        "    print('¡Peligro! ¡Un asteroide está cerca y una velocidad peligrosa!')\n",
        "else:\n",
        "    print('¡Solo es una alerta!')"
      ]
    },
    {
      "cell_type": "markdown",
      "metadata": {},
      "source": [
        "#### Problema de true o false - #2"
      ]
    },
    {
      "cell_type": "code",
      "execution_count": 3,
      "metadata": {},
      "outputs": [
        {
          "name": "stdout",
          "output_type": "stream",
          "text": [
            "¡Nada que ver aquí!\n"
          ]
        }
      ],
      "source": [
        "asteroide = 19\n",
        "if asteroide > 20:\n",
        "    print('¡estuvo cerca!')\n",
        "elif asteroide == 20:\n",
        "    print('estuvo cerca!')\n",
        "else:\n",
        "    print('¡Nada que ver aquí!')"
      ]
    },
    {
      "cell_type": "markdown",
      "metadata": {},
      "source": [
        "#### Problema and y ord - #3"
      ]
    },
    {
      "cell_type": "code",
      "execution_count": 5,
      "metadata": {},
      "outputs": [
        {
          "name": "stdout",
          "output_type": "stream",
          "text": [
            "estuvo cerca y se alejor el peligro\n"
          ]
        }
      ],
      "source": [
        "velocidad_asteroide = 25\n",
        "tamano_asteroide = 40\n",
        "if velocidad_asteroide > 25 and tamano_asteroide > 25:\n",
        "    print('¡Peligro! ¡Un asteroide está cerca y una velocidad peligrosa!')\n",
        "elif velocidad_asteroide >= 20:\n",
        "    print('estuvo cerca y se alejo el peligro')\n",
        "elif tamano_asteroide < 25:\n",
        "    print('estuvo cerca')\n",
        "else:\n",
        "    print('Solo fue una alerta')"
      ]
    }
  ],
  "metadata": {
    "interpreter": {
      "hash": "916dbcbb3f70747c44a77c7bcd40155683ae19c65e1c03b4aa3499c5328201f1"
    },
    "kernel_info": {
      "name": "conda-env-py37_default-py"
    },
    "kernelspec": {
      "display_name": "py37_default",
      "language": "python",
      "name": "python3"
    },
    "language_info": {
      "codemirror_mode": {
        "name": "ipython",
        "version": 3
      },
      "file_extension": ".py",
      "mimetype": "text/x-python",
      "name": "python",
      "nbconvert_exporter": "python",
      "pygments_lexer": "ipython3",
      "version": "3.10.2"
    },
    "nteract": {
      "version": "nteract-front-end@1.0.0"
    },
    "orig_nbformat": 4
  },
  "nbformat": 4,
  "nbformat_minor": 2
}
