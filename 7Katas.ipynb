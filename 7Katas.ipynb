{
  "cells": [
    {
      "cell_type": "markdown",
      "metadata": {},
      "source": [
        "# Ejercicio 1: Creación de un bucle \"while\""
      ]
    },
    {
      "cell_type": "code",
      "execution_count": 5,
      "metadata": {},
      "outputs": [
        {
          "name": "stdout",
          "output_type": "stream",
          "text": [
            "lista de los planetas: \n",
            "[]\n",
            "['tierra']\n"
          ]
        }
      ],
      "source": [
        "# Declara dos variables\n",
        "new_planet = ''\n",
        "planets = []\n",
        "\n",
        "print(\"lista de los planetas: \")\n",
        "while new_planet.lower() != 'done':\n",
        "    if new_planet:\n",
        "        planets.append(new_planet)\n",
        "    new_planet = input('Enter a new planet ')\n",
        "    print(planets)"
      ]
    },
    {
      "cell_type": "markdown",
      "metadata": {},
      "source": [
        "## Ejercicio 2: Creación de un ciclo \"for\""
      ]
    },
    {
      "cell_type": "code",
      "execution_count": 8,
      "metadata": {},
      "outputs": [
        {
          "name": "stdout",
          "output_type": "stream",
          "text": [
            "Mercury\n",
            "Venus\n",
            "Earth\n",
            "Mars\n",
            "Jupiter\n",
            "Saturn\n",
            "Uranus\n",
            "Neptune\n",
            "Blast off!! 🚀\n"
          ]
        }
      ],
      "source": [
        "# Escribe tu ciclo for para iterar en una lista de planetas\n",
        "from time import sleep\n",
        "\n",
        "# Creamos una lista de 5 números llamada countdown\n",
        "countdown = [\"Mercury\", \"Venus\", \"Earth\", \"Mars\", \"Jupiter\", \"Saturn\", \"Uranus\", \"Neptune\"]\n",
        "\n",
        "# Para cada número en countdown\n",
        "for planets in countdown:\n",
        "    #Muestra el número\n",
        "    print(planets)\n",
        "\n",
        "    # Espera (1segundo)\n",
        "    sleep(1)\n",
        "\n",
        "# Muestra el mensaje Blast off\n",
        "print(\" Planetas a la vista 🚀\")\n",
        "\n"
      ]
    }
  ],
  "metadata": {
    "interpreter": {
      "hash": "916dbcbb3f70747c44a77c7bcd40155683ae19c65e1c03b4aa3499c5328201f1"
    },
    "kernelspec": {
      "display_name": "Python 3.8.10 64-bit",
      "language": "python",
      "name": "python3"
    },
    "language_info": {
      "codemirror_mode": {
        "name": "ipython",
        "version": 3
      },
      "file_extension": ".py",
      "mimetype": "text/x-python",
      "name": "python",
      "nbconvert_exporter": "python",
      "pygments_lexer": "ipython3",
      "version": "3.10.2"
    },
    "nteract": {
      "version": "nteract-front-end@1.0.0"
    },
    "orig_nbformat": 4
  },
  "nbformat": 4,
  "nbformat_minor": 2
}
