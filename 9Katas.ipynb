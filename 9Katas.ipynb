{
  "cells": [
    {
      "cell_type": "code",
      "execution_count": 23,
      "metadata": {},
      "outputs": [],
      "source": [
        "# Función para leer 3 tanques de combustible y muestre el promedio\n",
        "def generate_report(tanque_medio, tanque_externo, tanque_hidrogeno):\n",
        "    total_promedio = (tanque_medio + tanque_externo + tanque_hidrogeno) / 3\n",
        "    return f\"\"\"Reporte:\n",
        "    Total promedio: {total_promedio}%\n",
        "    tanque_medio: {tanque_medio}%\n",
        "    tanque_externo: {tanque_externo}%\n",
        "    tanque_hidrogeno: {tanque_hidrogeno}% \n",
        "    \"\"\"\n"
      ]
    },
    {
      "cell_type": "markdown",
      "metadata": {},
      "source": [
        "Ahora que hemos definido la función de informes, vamos a comprobarlo. Para esta misión, los tanques no están llenos:"
      ]
    },
    {
      "cell_type": "code",
      "execution_count": 30,
      "metadata": {},
      "outputs": [
        {
          "name": "stdout",
          "output_type": "stream",
          "text": [
            "Reporte:\n",
            "    Total promedio: 78.33333333333333%\n",
            "    tanque_medio: 80%\n",
            "    tanque_externo: 70%\n",
            "    tanque_hidrogeno: 85% \n",
            "    \n"
          ]
        }
      ],
      "source": [
        "\n",
        "# Llamamos a la función que genera el reporte print(funcion(tanque1, tanque2, tanque3))\n",
        "print(generate_report(80, 70, 85))"
      ]
    },
    {
      "cell_type": "markdown",
      "metadata": {},
      "source": [
        "En lugar de simplemente crear el informe, la función también está calculando el promedio. Mejora la legibilidad extrayendo el cálculo promedio de la función en una nueva función para que el promedio se pueda hacer de forma independiente:"
      ]
    },
    {
      "cell_type": "code",
      "execution_count": 39,
      "metadata": {},
      "outputs": [
        {
          "data": {
            "text/plain": [
              "82.0"
            ]
          },
          "execution_count": 39,
          "metadata": {},
          "output_type": "execute_result"
        }
      ],
      "source": [
        "# Función promedio\n",
        "def promedio(valor):\n",
        "    total = sum(valor)\n",
        "    number_of_items = len(valor)\n",
        "    return total / number_of_items\n",
        "\n",
        "# Test the averaging function with a list of integers:\n",
        "promedio([80, 85, 81]) "
      ]
    },
    {
      "cell_type": "markdown",
      "metadata": {},
      "source": [
        "Ahora actualiza la función de informes para llamando a la nueva función del promedio:\n"
      ]
    },
    {
      "cell_type": "code",
      "execution_count": 49,
      "metadata": {},
      "outputs": [
        {
          "name": "stdout",
          "output_type": "stream",
          "text": [
            "Reporte completo:\n",
            "    Total promedio: 78.0%\n",
            "    tanque_medio: 88%\n",
            "    tanque_externo: 76%\n",
            "    tanque_hidrogeno: 70% \n",
            "    \n"
          ]
        }
      ],
      "source": [
        "# Actualiza la función\n",
        "def generate_report(tanque_medio, tanque_externo, tanque_hidrogeno):\n",
        "    return f\"\"\"Reporte completo:\n",
        "    Total promedio: {promedio([tanque_medio, tanque_externo, tanque_hidrogeno])}%\n",
        "    tanque_medio: {tanque_medio}%\n",
        "    tanque_externo: {tanque_externo}%\n",
        "    tanque_hidrogeno: {tanque_hidrogeno}% \n",
        "    \"\"\"\n",
        "\n",
        "# Call the updated function again with different values\n",
        "print(generate_report(88, 76, 70))"
      ]
    },
    {
      "cell_type": "markdown",
      "metadata": {},
      "source": [
        "> Recuerda: Lo importante es intentarlo, puedes auxiliarte de internet, libros, etc. El objetivo de una kata es la comprobación de la comprensión de la lección y su aplicación inmediata a la resolución de problemas. Go for it!"
      ]
    },
    {
      "cell_type": "markdown",
      "metadata": {},
      "source": [
        "## Ejercicio 2: Trabajo con argumentos de palabra clave"
      ]
    },
    {
      "cell_type": "markdown",
      "metadata": {},
      "source": [
        "### Ejercicio : Trabajar con argumentos de palabras clave en funciones\n",
        "En este ejercicio, construirás un informe de cohete que requiere varias piezas de información, como el tiempo hasta el destino, el combustible a la izquierda y el nombre del destino. Comienza por crear una función que creará un informe preciso de la misión:"
      ]
    },
    {
      "cell_type": "code",
      "execution_count": 59,
      "metadata": {},
      "outputs": [
        {
          "name": "stdout",
          "output_type": "stream",
          "text": [
            "\n",
            "    Misión a luna\n",
            "    Total de tiempo: 65 minutes\n",
            "    Total de combustible: 500000 galones\n",
            "    \n"
          ]
        }
      ],
      "source": [
        "# Función con un informe preciso de la misión. Considera hora de prelanzamiento, tiempo de vuelo, destino, tanque externo y tanque interno\n",
        "def mission_report(pre_almuerzo, tiempo_de_vuelo, destino, tanque_externo, tanque_pricipal):\n",
        "    return f\"\"\"\n",
        "    Misión a {destino}\n",
        "    Total de tiempo: {pre_almuerzo + tiempo_de_vuelo} minutes\n",
        "    Total de combustible: {tanque_externo + tanque_pricipal} galones\n",
        "    \"\"\"\n",
        "\n",
        "print(mission_report(14, 51, \"luna\", 200000, 300000))"
      ]
    },
    {
      "cell_type": "code",
      "execution_count": 68,
      "metadata": {},
      "outputs": [
        {
          "name": "stdout",
          "output_type": "stream",
          "text": [
            "\n",
            "    Mision a la luna\n",
            "    Total de timpo de viaje: 76 minutos\n",
            "    Combustible restante: 500000\n",
            "    \n"
          ]
        }
      ],
      "source": [
        "# Escribe tu nueva función de reporte considerando lo anterior\n",
        "def mission_report(destino, *minutos, **deposito_de_combustible):\n",
        "    return f\"\"\"\n",
        "    Mision a la {destino}\n",
        "    Total de timpo de viaje: {sum(minutos)} minutos\n",
        "    Combustible restante: {sum(deposito_de_combustible.values())}\n",
        "    \"\"\"\n",
        "\n",
        "print(mission_report(\"luna\", 10, 15, 51, main=300000, external=200000))"
      ]
    },
    {
      "cell_type": "markdown",
      "metadata": {},
      "source": [
        "Debido a que el combustible que queda en los tanques es específico de cada tanque, actualiza la función para usar el nombre de cada tanque en el informe:"
      ]
    },
    {
      "cell_type": "code",
      "execution_count": 85,
      "metadata": {},
      "outputs": [
        {
          "name": "stdout",
          "output_type": "stream",
          "text": [
            "\n",
            "    Mision a la luna\n",
            "    tiempo_total: 74 minutos\n",
            "    combustible_restante: 500000\n",
            "    cabina_de_tanque ---> 300000 galones\n",
            "externo_tanque ---> 200000 galones\n",
            "\n"
          ]
        }
      ],
      "source": [
        "# Escribe tu nueva función\n",
        "def mission_report(destino, *minutos, **combustibe):\n",
        "    informe = f\"\"\"\n",
        "    Mision a la {destino}\n",
        "    tiempo_total: {sum(minutos)} minutos\n",
        "    combustible_restante: {sum(combustibe.values())}\n",
        "    \"\"\"\n",
        "    for nombre_del_tanque_Apolo, galones in combustibe.items():\n",
        "        informe += f\"{nombre_del_tanque_Apolo}_tanque ---> {galones} galones\\n\"\n",
        "    return informe\n",
        "\n",
        "print(mission_report(\"luna\", 8, 11, 55, cabina_de=300000, externo=200000))"
      ]
    }
  ],
  "metadata": {
    "interpreter": {
      "hash": "205095b8b86ea82a021a8fc2ffba2b3bc9f8d0be25999901963b225939f75778"
    },
    "kernelspec": {
      "display_name": "Python 3.8.10 64-bit ('tmp': conda)",
      "name": "python3"
    },
    "language_info": {
      "codemirror_mode": {
        "name": "ipython",
        "version": 3
      },
      "file_extension": ".py",
      "mimetype": "text/x-python",
      "name": "python",
      "nbconvert_exporter": "python",
      "pygments_lexer": "ipython3",
      "version": "3.10.2"
    },
    "nteract": {
      "version": "nteract-front-end@1.0.0"
    },
    "orig_nbformat": 4
  },
  "nbformat": 4,
  "nbformat_minor": 2
}
